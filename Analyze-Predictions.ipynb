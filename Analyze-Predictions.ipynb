{
 "cells": [
  {
   "cell_type": "code",
   "execution_count": null,
   "source": [
    "import pandas as pd\r\n",
    "import numpy as np\r\n",
    "import seaborn as sns"
   ],
   "outputs": [],
   "metadata": {}
  },
  {
   "cell_type": "code",
   "execution_count": null,
   "source": [
    "sub_df = pd.read_csv(\"ImagePredictions.csv\")\r\n",
    "# sub_df.drop(sub_df.columns[0], axis=1)"
   ],
   "outputs": [],
   "metadata": {}
  },
  {
   "cell_type": "code",
   "execution_count": null,
   "source": [
    "sub_df.head(5)"
   ],
   "outputs": [],
   "metadata": {}
  },
  {
   "cell_type": "code",
   "execution_count": null,
   "source": [
    "sub_df.sort_values([\"conf\", \"imageid\"], ascending=False, inplace=True)"
   ],
   "outputs": [],
   "metadata": {}
  },
  {
   "cell_type": "code",
   "execution_count": null,
   "source": [
    "sns.kdeplot(data=sub_df, x=\"conf\", hue=\"label\")"
   ],
   "outputs": [],
   "metadata": {}
  },
  {
   "cell_type": "code",
   "execution_count": null,
   "source": [
    "len(sub_df[(sub_df[\"conf\"] >= 0.2) & (sub_df[\"label\"] == \"none\")].imageid.unique())"
   ],
   "outputs": [],
   "metadata": {}
  },
  {
   "cell_type": "code",
   "execution_count": null,
   "source": [
    "list(range(10))[0 : 6]"
   ],
   "outputs": [],
   "metadata": {}
  },
  {
   "cell_type": "code",
   "execution_count": null,
   "source": [
    "def prediction_string_to_list(row):\r\n",
    "    pred_str = row[\"PredictionString\"]\r\n",
    "    pred_split = pred_str.split(\" \")[:-1]\r\n",
    "    pred_list = []\r\n",
    "    for i in range(0, len(pred_split), 6):\r\n",
    "        label, conf, x1, y1, x2, y2 = pred_split[i:i + 6]\r\n",
    "        pred_list.append((label, conf, x1, y1, x2, y2))\r\n",
    "    return pred_list"
   ],
   "outputs": [],
   "metadata": {}
  },
  {
   "cell_type": "code",
   "execution_count": null,
   "source": [
    "sub_df[\"PredsList\"] = sub_df.apply(prediction_string_to_list, axis=1)"
   ],
   "outputs": [],
   "metadata": {}
  },
  {
   "cell_type": "code",
   "execution_count": null,
   "source": [
    "exploded = sub_df[[\"id\", \"PredsList\"]].explode(column=\"PredsList\")"
   ],
   "outputs": [],
   "metadata": {}
  },
  {
   "cell_type": "code",
   "execution_count": null,
   "source": [
    "def get_label_conf_xyxy(row):\r\n",
    "    lcxyxy = []\r\n",
    "    for i in range(6):\r\n",
    "        lcxyxy.append(row[\"PredsList\"][i])\r\n",
    "    return lcxyxy"
   ],
   "outputs": [],
   "metadata": {}
  },
  {
   "cell_type": "code",
   "execution_count": null,
   "source": [
    "exploded[\"Label\"], exploded[\"Conf\"], exploded[\"XMin\"], exploded[\"YMin\"], exploded[\"XMax\"], exploded[\"YMax\"] = zip(*exploded.apply(get_label_conf_xyxy, axis=1))"
   ],
   "outputs": [],
   "metadata": {}
  },
  {
   "cell_type": "code",
   "execution_count": null,
   "source": [
    "sns.histplot(data=exploded, x=\"Conf\")"
   ],
   "outputs": [],
   "metadata": {}
  },
  {
   "cell_type": "code",
   "execution_count": null,
   "source": [],
   "outputs": [],
   "metadata": {}
  }
 ],
 "metadata": {
  "orig_nbformat": 4,
  "language_info": {
   "name": "python",
   "version": "3.9.6",
   "mimetype": "text/x-python",
   "codemirror_mode": {
    "name": "ipython",
    "version": 3
   },
   "pygments_lexer": "ipython3",
   "nbconvert_exporter": "python",
   "file_extension": ".py"
  },
  "kernelspec": {
   "name": "python3",
   "display_name": "Python 3.9.6 64-bit ('pytorch': conda)"
  },
  "interpreter": {
   "hash": "28dd899faa11f55be1317e8a7ce0944a390660f5df9cb7db7fa985085f3b108b"
  }
 },
 "nbformat": 4,
 "nbformat_minor": 2
}